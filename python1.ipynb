{
  "cells": [
    {
      "cell_type": "markdown",
      "id": "b80ef39c-101f-46b1-bdcb-419d763b41d0",
      "metadata": {},
      "source": [
        "# Python Homework\n",
        "--Tuğçe Kul\n",
        "\n",
        "This section about defining the data that we going to use.\n",
        "\n",
        "<code>FULL_CHARGE</code>: The maximum range of the vehicle\n",
        "\n",
        "<code>districts</code>: The list of districts\n",
        "\n",
        "<code>data</code>: The distance matrix\n",
        "\n",
        "<code>routes</code>: The list of routes\n",
        "\n",
        "<code>combinations_of_can_be_open</code>: The list of combinations of charging stations that can be opened\n"
      ]
    },
    {
      "cell_type": "code",
      "execution_count": 1,
      "id": "fe55883a-6887-43dd-9498-5333a51799e2",
      "metadata": {
        "trusted": true
      },
      "outputs": [],
      "source": [
        "# 21069039 - Tuğçe KUL\n",
        "\n",
        "FULL_CHARGE = 40\n",
        "\n",
        "districts = (\n",
        "    \"Atasehir\", \"Beykoz\", \"Cekmekoy\", \"Kadikoy\", \"Kartal\", \"Maltepe\", \"Pendik\",\n",
        "    \"Sancaktepe\", \"Sultanbeyli\", \"Sile\", \"Tuzla\", \"Umraniye\", \"Uskudar\"\n",
        ")\n",
        "\n",
        "data = (\n",
        "    (0, 24, 34, 9, 17, 11, 33, 29, 14, 63, 26, 7, 14),\n",
        "    (24, 0, 24, 29, 37, 34, 60, 35, 34, 73, 47, 22, 26),\n",
        "    (34, 24, 0, 38, 33, 27, 43, 14, 21, 36, 33, 29, 36),\n",
        "    (9, 29, 38, 0, 19, 13, 20, 24, 18, 63, 30, 12, 11),\n",
        "    (17, 37, 33, 19, 0, 13, 7, 21, 18, 60, 17, 22, 27),\n",
        "    (11, 34, 27, 13, 13, 0, 16, 16, 11, 56, 27, 19, 20),\n",
        "    (33, 60, 43, 20, 7, 16, 0, 29, 23, 71, 16, 27, 29),\n",
        "    (29, 35, 14, 24, 21, 16, 29, 0, 10, 41, 21, 19, 28),\n",
        "    (14, 34, 21, 18, 18, 11, 23, 10, 0, 50, 16, 20, 25),\n",
        "    (63, 73, 36, 63, 60, 56, 71, 41, 50, 0, 63, 57, 63),\n",
        "    (26, 47, 33, 30, 17, 27, 16, 21, 16, 63, 0, 32, 36),\n",
        "    (7, 22, 29, 12, 22, 19, 27, 19, 20, 57, 32, 0, 12),\n",
        "    (14, 26, 36, 11, 27, 20, 29, 28, 25, 63, 36, 12, 0)\n",
        ")\n",
        "\n",
        "routes = (\n",
        "    (\"R1\" , (\"Atasehir\",\"Umraniye\")),\n",
        "    (\"R2\" , (\"Atasehir\",\"Beykoz\", \"Cekmekoy\")),\n",
        "    (\"R3\" , (\"Atasehir\",\"Umraniye\",\"Uskudar\")),\n",
        "    (\"R4\" , (\"Beykoz\",\"Cekmekoy\",\"Sancaktepe\")),\n",
        "    (\"R5\" , (\"Beykoz\",\"Uskudar\",\"Umraniye\",\"Atasehir\",\"Kadikoy\",\"Maltepe\",\"Kartal\")),\n",
        "    (\"R6\" , (\"Beykoz\",\"Cekmekoy\",\"Sancaktepe\",\"Sultanbeyli\",\"Maltepe\",\"Kartal\",\"Pendik\")),\n",
        "    (\"R7\" , (\"Beykoz\",\"Cekmekoy\",\"Sancaktepe\",\"Sultanbeyli\",\"Kartal\",\"Pendik\")),\n",
        ")\n",
        "\n",
        "combinations_of_can_be_open = (\n",
        "    (\"C1\", (\"Atasehir\", \"Kadikoy\")),\n",
        "    (\"C2\", (\"Beykoz\", \"Cekmekoy\")),\n",
        "    (\"C3\", (\"Beykoz\", \"Sancaktepe\")),\n",
        "    (\"C4\", (\"Cekmekoy\", \"Sultanbeyli\")),\n",
        "    (\"C5\", (\"Maltepe\", \"Kadikoy\")),\n",
        "    (\"C6\", (\"Uskudar\", \"Kadikoy\", \"Beykoz\")),\n",
        "    (\"C7\", (\"Beykoz\", \"Sultanbeyli\", \"Kartal\")),\n",
        "    (\"C8\", (\"Beykoz\", \"Ataşehir\", \"Maltepe\")),\n",
        ")"
      ]
    },
    {
      "cell_type": "markdown",
      "id": "b5cf8f3c-d692-4b33-a3f2-7bfc091d1b2d",
      "metadata": {},
      "source": [
        "This section about the helper functions that we going to use.\n",
        "\n",
        "<code>get_distance</code> function: This function takes two parameters. Both parameters are district names. The function finds that indexes in <code>dictricts</code> tuple. With these indexes, takes the data from <code>data</code> tuple for the distance.\n",
        "\n",
        "\n",
        "<code>get_route_by_id</code> function: This function takes one parameter. As the name suggests, the function loop through all the <code>routes</code> and if the route id match with given value, the route path returns.\n",
        "\n",
        "<code>get_combination_by_id</code> function: This function takes one parameter. As the name suggests, the function loop through all the <code>combinations_of_can_be_open</code> and if the combination id match with given value, the route path returns."
      ]
    },
    {
      "cell_type": "code",
      "execution_count": 2,
      "id": "c32d72e9-26af-4745-ac63-519c8fc8dd5c",
      "metadata": {
        "trusted": true
      },
      "outputs": [],
      "source": [
        "def get_distance(district1, district2):\n",
        "    index1 = districts.index(district1)\n",
        "    index2 = districts.index(district2)\n",
        "    return data[index1][index2]\n",
        "\n",
        "def get_route_by_id(route_id):\n",
        "    for route in routes:\n",
        "        if route[0] == route_id:\n",
        "            return route[1]\n",
        "    return None\n",
        "\n",
        "def get_combination_by_id(combination_id):\n",
        "    for combination in combinations_of_can_be_open:\n",
        "        if combination[0] == combination_id:\n",
        "            return combination[1]\n",
        "    return None"
      ]
    },
    {
      "cell_type": "markdown",
      "id": "6d960284-a71a-403a-a80a-ec06febccc59",
      "metadata": {},
      "source": [
        "<code>check_feasibility</code> function: The function takes two parameters. First parameter is the the route and second parameter is combinations. Both are tuples. First, we take the first element of the combinations and check if it is on our route. If it's not, returns \"false\". If it is, we take the index of the first element of the combination in the route. If the index is 0, it means that the first element of the combination is the first element of the route. So, we set the <code>remaining_range</code> to <code>FULL_CHARGE</code>. If the index is not 0, it means that the first element of the combination is not the first element of the route. So, we set the <code>remaining_range</code> to <code>FULL_CHARGE / 2</code>. Then, we iterate over the route starting from the index of the first element of the combination. If the current district of the route is in the combination, we set the <code>remaining_range</code> to <code>FULL_CHARGE</code> because that means we are in the a district that has EV station. Then, we subtract the distance between the current element and the next element from the <code>remaining_range</code>. If the <code>remaining_range</code> is less than 0, it means that the route is not feasible. If the <code>remaining_range</code> is greater than or equal to 0, it means that the route is feasible. So, we return \"true\"."
      ]
    },
    {
      "cell_type": "code",
      "execution_count": 3,
      "id": "46e249fa-347d-4a37-ae64-cb34680112e9",
      "metadata": {
        "trusted": true
      },
      "outputs": [],
      "source": [
        "def check_feasibility(route, combination):\n",
        "    if combination[0] not in route:\n",
        "        return False\n",
        "    else:\n",
        "        start_index = route.index(combination[0])\n",
        "        if start_index == 0:\n",
        "            remaining_range = FULL_CHARGE\n",
        "        else:\n",
        "            remaining_range = FULL_CHARGE / 2\n",
        "        for i in range(start_index, len(route) - 1):\n",
        "            if route[i] in combination:\n",
        "                remaining_range = FULL_CHARGE\n",
        "            remaining_range -= get_distance(route[i], route[i+1])\n",
        "            if remaining_range < 0:\n",
        "                return False\n",
        "        return True"
      ]
    },
    {
      "cell_type": "markdown",
      "id": "7280e359-762d-470d-b688-21e30fca7c77",
      "metadata": {},
      "source": [
        "<code>find_feasible_route</code> function: Takes two parameters. First parameter is the list of route ids and second parameter is the list of combination ids. First, we create a dictionary and add all routes to the dictionary. Then, we iterate over the routes and combinations. Because if the route is not feasible with any given route, we are going to add this with empty tuple either. If the route is feasible for the combination, (checking with <code>check_feasibility</code> and the other helper functions that explained) we add the combination to the dictionary. Finally, we return the dictionary."
      ]
    },
    {
      "cell_type": "code",
      "execution_count": 10,
      "id": "07bd9a2c-bd63-4131-8976-538296b02402",
      "metadata": {
        "trusted": true
      },
      "outputs": [],
      "source": [
        "def find_feasible_route(LofR, LofC):\n",
        "    feasible = {}\n",
        "    for route in LofR:\n",
        "        feasible[route] = ()\n",
        "    for route in LofR:\n",
        "        for combination in LofC:\n",
        "            if check_feasibility(get_route_by_id(route), get_combination_by_id(combination)):\n",
        "                feasible[route] += (combination,)\n",
        "    return feasible"
      ]
    },
    {
      "cell_type": "markdown",
      "id": "a35049bd-d4b6-4c46-bc6b-244b6678cde3",
      "metadata": {},
      "source": [
        "<code>find_feasible_route_ex</code> function: Takes two parameters. First parameter is the list of routes and second parameter is the list of combinations. First, we create a dictionary and add all routes to the dictionary. Then, we iterate over the routes and combinations. Because if the route is not feasible with any given route, we are going to add this with empty tuple either. If the route is feasible for the combination, (checking with <code>check_feasibility</code> that explained) we add the combination to the dictionary's tuple. Finally, we return the dictionary."
      ]
    },
    {
      "cell_type": "code",
      "execution_count": 8,
      "id": "efb5f998-d200-4723-832b-c99810d76475",
      "metadata": {
        "trusted": true
      },
      "outputs": [],
      "source": [
        "def find_feasible_route_ex(LofRex, LofCex):\n",
        "    feasible = {}\n",
        "    for route in LofRex:\n",
        "        feasible[route] = ()\n",
        "    for route in LofRex:\n",
        "        for combination in LofCex:\n",
        "            if check_feasibility(route, combination):\n",
        "                feasible[route] += (combination,)\n",
        "    return feasible"
      ]
    },
    {
      "cell_type": "markdown",
      "id": "b796180b-de5d-418f-85c7-d1bdebc896bf",
      "metadata": {},
      "source": [
        "This section is testing."
      ]
    },
    {
      "cell_type": "code",
      "execution_count": 14,
      "id": "0c183729-f83d-43bf-92bd-bc5ee9645f47",
      "metadata": {
        "trusted": true
      },
      "outputs": [
        {
          "name": "stdout",
          "output_type": "stream",
          "text": [
            "True\n",
            "----\n",
            "{'R2': ('C3',), 'R4': ('C3',)}\n",
            "----\n",
            "{('Atasehir', 'Umraniye'): (('Atasehir', 'Kadikoy'),), ('Beykoz', 'Cekmekoy', 'Sancaktepe'): (('Beykoz', 'Cekmekoy'), ('Cekmekoy', 'Sultanbeyli'))}\n"
          ]
        }
      ],
      "source": [
        "LofRex = [(\"Atasehir\", \"Umraniye\"),(\"Beykoz\", \"Cekmekoy\", \"Sancaktepe\")]\n",
        "LofCex=[(\"Atasehir\", \"Kadikoy\"),(\"Beykoz\", \"Cekmekoy\"),(\"Cekmekoy\", \"Sultanbeyli\")]\n",
        "\n",
        "LofC = [\"C1\", \"C3\", \"C5\"]\n",
        "LofR = [\"R2\", \"R4\"]\n",
        "\n",
        "def main():\n",
        "    print(check_feasibility(get_route_by_id(\"R1\"), get_combination_by_id(\"C1\")));\n",
        "    print(\"----\");\n",
        "    print(find_feasible_route(LofR, LofC))\n",
        "    print(\"----\");\n",
        "    print(find_feasible_route_ex(LofRex, LofCex))\n",
        "\n",
        "if __name__ == \"__main__\":\n",
        "    main()"
      ]
    }
  ],
  "metadata": {
    "kernelspec": {
      "display_name": "Python (Pyodide)",
      "language": "python",
      "name": "python"
    },
    "language_info": {
      "codemirror_mode": {
        "name": "python",
        "version": 3
      },
      "file_extension": ".py",
      "mimetype": "text/x-python",
      "name": "python",
      "nbconvert_exporter": "python",
      "pygments_lexer": "ipython3",
      "version": "3.8"
    }
  },
  "nbformat": 4,
  "nbformat_minor": 5
}
